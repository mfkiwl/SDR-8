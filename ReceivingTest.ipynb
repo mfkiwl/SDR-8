{
 "cells": [
  {
   "cell_type": "code",
   "execution_count": 18,
   "metadata": {},
   "outputs": [],
   "source": [
    "import uhd\n",
    "import numpy as np\n",
    "import matplotlib.pyplot as plt\n",
    "from matplotlib.animation import FuncAnimation"
   ]
  },
  {
   "cell_type": "code",
   "execution_count": 19,
   "metadata": {},
   "outputs": [],
   "source": [
    "\n",
    "usrp = uhd.usrp.MultiUSRP()\n",
    "\n",
    "\n",
    "center_freq = 2.44e9# Hz\n",
    "sample_rate = 56e6 # Hz twice the BW\n",
    "recordingTime =1 #s\n",
    "THRESHOLD = 0.1\n",
    "gain = 40# dB\n",
    "\n",
    "usrp.set_rx_rate(sample_rate, 0)\n",
    "usrp.set_rx_freq(uhd.libpyuhd.types.tune_request(center_freq), 0)\n",
    "usrp.set_rx_gain(gain, 0)\n",
    "usrp.set_rx_agc(False, 0)"
   ]
  },
  {
   "cell_type": "code",
   "execution_count": 20,
   "metadata": {},
   "outputs": [],
   "source": [
    "batch = 30000\n",
    "# Set up the stream and receive buffer\n",
    "st_args = uhd.usrp.StreamArgs(\"fc32\", \"sc16\")\n",
    "st_args.channels = [0]\n",
    "metadata = uhd.types.RXMetadata()\n",
    "streamer = usrp.get_rx_stream(st_args)\n",
    "recv_buffer = np.zeros((1, batch), dtype=np.complex64)\n",
    "\n",
    "# Start Stream\n",
    "stream_cmd = uhd.types.StreamCMD(uhd.types.StreamMode.start_cont)\n",
    "stream_cmd.stream_now = True\n",
    "streamer.issue_stream_cmd(stream_cmd)"
   ]
  },
  {
   "cell_type": "code",
   "execution_count": 21,
   "metadata": {},
   "outputs": [
    {
     "name": "stderr",
     "output_type": "stream",
     "text": [
      "OOOOOOOOOOOOOOOOOOOOOO"
     ]
    },
    {
     "name": "stdout",
     "output_type": "stream",
     "text": [
      "Recv time:  0.0002469279970682692  processing time:  0.009396979003213346\n"
     ]
    },
    {
     "name": "stderr",
     "output_type": "stream",
     "text": [
      "OOOOOOOOOOOOOOOOOOOOOO"
     ]
    },
    {
     "name": "stdout",
     "output_type": "stream",
     "text": [
      "Recv time:  1.719799911370501e-05  processing time:  0.010368924999056617\n"
     ]
    },
    {
     "name": "stderr",
     "output_type": "stream",
     "text": [
      "OOOOOOOOOOOOOOOOOOOOOOOOOOO"
     ]
    },
    {
     "name": "stdout",
     "output_type": "stream",
     "text": [
      "Recv time:  2.6499001251067966e-05  processing time:  0.008711868998943828\n"
     ]
    },
    {
     "name": "stderr",
     "output_type": "stream",
     "text": [
      "OOOOOOOOOOOOOOOOOOOOOO"
     ]
    },
    {
     "name": "stdout",
     "output_type": "stream",
     "text": [
      "Recv time:  1.648699981160462e-05  processing time:  0.0101906659983797\n"
     ]
    },
    {
     "name": "stderr",
     "output_type": "stream",
     "text": [
      "OOOOOOOOOOOOOOOOOOOOOOOOOOOOO"
     ]
    },
    {
     "name": "stdout",
     "output_type": "stream",
     "text": [
      "Recv time:  2.1617997845169157e-05  processing time:  0.008204121000744635\n"
     ]
    },
    {
     "name": "stderr",
     "output_type": "stream",
     "text": [
      "OOOOOOOOOOOOOOOOOOOOO"
     ]
    },
    {
     "name": "stdout",
     "output_type": "stream",
     "text": [
      "Recv time:  0.00024670000129844993  processing time:  0.016390582000894938\n"
     ]
    },
    {
     "name": "stderr",
     "output_type": "stream",
     "text": [
      "OOOOOOOOOOOOOOOOOOOOOOOOO"
     ]
    },
    {
     "name": "stdout",
     "output_type": "stream",
     "text": [
      "Recv time:  0.00020855800175922923  processing time:  0.008476027000142494\n"
     ]
    },
    {
     "name": "stderr",
     "output_type": "stream",
     "text": [
      "OOOOOOOOOOOOOOOOOOOOOOOOOO"
     ]
    },
    {
     "name": "stdout",
     "output_type": "stream",
     "text": [
      "Recv time:  2.2292999346973374e-05  processing time:  0.010148820998438168\n"
     ]
    },
    {
     "name": "stderr",
     "output_type": "stream",
     "text": [
      "OOOOOOOOOOOOOOOOOOOOO"
     ]
    },
    {
     "name": "stdout",
     "output_type": "stream",
     "text": [
      "Recv time:  0.00021685699903173372  processing time:  0.008645498000987573\n"
     ]
    },
    {
     "name": "stderr",
     "output_type": "stream",
     "text": [
      "OOOOOOOOOOOOOOOOOOOOOOO"
     ]
    },
    {
     "name": "stdout",
     "output_type": "stream",
     "text": [
      "Recv time:  0.0001829149987315759  processing time:  0.009298319000663469\n"
     ]
    }
   ],
   "source": [
    "# Receive Samples\n",
    "import numpy as np\n",
    "import time\n",
    "f = open(\"RawIQ\"+\"_ring_1_Acq4_sampling_rate\"+str(sample_rate)+\"gain\"+str(gain)+\"_thre_\"+str(THRESHOLD)+\".iq\",\"wb\")\n",
    "\n",
    "samples = np.zeros(batch, dtype=np.complex64)\n",
    "for i in range(10):\n",
    "    start= time.time()\n",
    "    # print(recordingTime <time.time() - start)\n",
    "    while   recordingTime >time.time() - start:\n",
    "        recievingStart = time.perf_counter()\n",
    "        streamer.recv(recv_buffer, metadata)\n",
    "        processingStart = time.perf_counter()\n",
    "        samples = recv_buffer[0]\n",
    "\n",
    "        if sum(abs(samples))/batch > THRESHOLD:\n",
    "            samples.tofile(f)\n",
    "        else:\n",
    "            np.zeros(int(batch/1000),dtype=np.complex64).tofile(f)\n",
    "        processingEnd = time.perf_counter()\n",
    "\n",
    "    print(\"Recv time: \", processingStart - recievingStart, \" processing time: \", processingEnd - processingStart)\n",
    "# Stop Stream\n",
    "stream_cmd = uhd.types.StreamCMD(uhd.types.StreamMode.stop_cont)\n",
    "streamer.issue_stream_cmd(stream_cmd)\n",
    "\n",
    "# we will only take the FFT of the first 1024 samples, see text below\n"
   ]
  }
 ],
 "metadata": {
  "kernelspec": {
   "display_name": "Python 3.8.10 64-bit",
   "language": "python",
   "name": "python3"
  },
  "language_info": {
   "codemirror_mode": {
    "name": "ipython",
    "version": 3
   },
   "file_extension": ".py",
   "mimetype": "text/x-python",
   "name": "python",
   "nbconvert_exporter": "python",
   "pygments_lexer": "ipython3",
   "version": "3.8.10"
  },
  "orig_nbformat": 4,
  "vscode": {
   "interpreter": {
    "hash": "916dbcbb3f70747c44a77c7bcd40155683ae19c65e1c03b4aa3499c5328201f1"
   }
  }
 },
 "nbformat": 4,
 "nbformat_minor": 2
}
