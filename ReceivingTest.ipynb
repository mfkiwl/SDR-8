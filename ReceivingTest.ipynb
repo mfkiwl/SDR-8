{
 "cells": [
  {
   "cell_type": "code",
   "execution_count": 24,
   "metadata": {},
   "outputs": [],
   "source": [
    "import uhd\n",
    "import numpy as np\n",
    "import matplotlib.pyplot as plt\n",
    "from matplotlib.animation import FuncAnimation"
   ]
  },
  {
   "cell_type": "code",
   "execution_count": 25,
   "metadata": {},
   "outputs": [],
   "source": [
    "\n",
    "usrp = uhd.usrp.MultiUSRP()\n",
    "\n",
    "\n",
    "center_freq = 2.44e9# Hz\n",
    "sample_rate = 56e6 # Hz twice the BW\n",
    "recordingTime = 1 #s\n",
    "THRESHOLD = 0.2\n",
    "# gain = 0# dB\n",
    "\n",
    "usrp.set_rx_rate(sample_rate, 0)\n",
    "usrp.set_rx_freq(uhd.libpyuhd.types.tune_request(center_freq), 0)\n",
    "# usrp.set_rx_gain(gain, 0)\n",
    "usrp.set_rx_agc(True, 0)"
   ]
  },
  {
   "cell_type": "code",
   "execution_count": 26,
   "metadata": {},
   "outputs": [],
   "source": [
    "batch = 1000\n",
    "# Set up the stream and receive buffer\n",
    "st_args = uhd.usrp.StreamArgs(\"fc32\", \"sc16\")\n",
    "st_args.channels = [0]\n",
    "metadata = uhd.types.RXMetadata()\n",
    "streamer = usrp.get_rx_stream(st_args)\n",
    "recv_buffer = np.zeros((1, batch), dtype=np.complex64)\n",
    "\n",
    "# Start Stream\n",
    "stream_cmd = uhd.types.StreamCMD(uhd.types.StreamMode.start_cont)\n",
    "stream_cmd.stream_now = True\n",
    "streamer.issue_stream_cmd(stream_cmd)"
   ]
  },
  {
   "cell_type": "code",
   "execution_count": 27,
   "metadata": {},
   "outputs": [
    {
     "name": "stderr",
     "output_type": "stream",
     "text": [
      "DDOOOOOOOOOOOOOOOOOOOOOOOOOO"
     ]
    }
   ],
   "source": [
    "# Receive Samples\n",
    "import numpy as np\n",
    "import time\n",
    "f = open(\"RawIQ.iq\",\"wb\")\n",
    "\n",
    "samples = np.zeros(batch, dtype=np.complex64)\n",
    "start= time.time()\n",
    "# print(recordingTime <time.time() - start)\n",
    "while   recordingTime >time.time() - start:\n",
    "    streamer.recv(recv_buffer, metadata)\n",
    "    samples = recv_buffer[0]\n",
    "\n",
    "    if sum(abs(samples))/batch > THRESHOLD:\n",
    "        samples.tofile(f)\n",
    "    else:\n",
    "        np.zeros(batch,dtype=np.complex64).tofile(f)\n",
    "    \n",
    "\n",
    "# Stop Stream\n",
    "stream_cmd = uhd.types.StreamCMD(uhd.types.StreamMode.stop_cont)\n",
    "streamer.issue_stream_cmd(stream_cmd)\n",
    "\n",
    "# we will only take the FFT of the first 1024 samples, see text below\n"
   ]
  }
 ],
 "metadata": {
  "kernelspec": {
   "display_name": "Python 3.8.10 64-bit",
   "language": "python",
   "name": "python3"
  },
  "language_info": {
   "codemirror_mode": {
    "name": "ipython",
    "version": 3
   },
   "file_extension": ".py",
   "mimetype": "text/x-python",
   "name": "python",
   "nbconvert_exporter": "python",
   "pygments_lexer": "ipython3",
   "version": "3.8.10"
  },
  "orig_nbformat": 4,
  "vscode": {
   "interpreter": {
    "hash": "916dbcbb3f70747c44a77c7bcd40155683ae19c65e1c03b4aa3499c5328201f1"
   }
  }
 },
 "nbformat": 4,
 "nbformat_minor": 2
}
