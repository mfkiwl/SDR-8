{
 "cells": [
  {
   "cell_type": "code",
   "execution_count": 1,
   "metadata": {},
   "outputs": [],
   "source": [
    "import uhd\n",
    "import numpy as np\n",
    "import matplotlib.pyplot as plt\n",
    "from matplotlib.animation import FuncAnimation"
   ]
  },
  {
   "cell_type": "code",
   "execution_count": 2,
   "metadata": {},
   "outputs": [
    {
     "name": "stderr",
     "output_type": "stream",
     "text": [
      "[INFO] [UHD] linux; GNU C++ version 9.4.0; Boost_107100; UHD_3.15.0.HEAD-0-gaea0e2de\n",
      "[INFO] [B200] Detected Device: B210\n",
      "[INFO] [B200] Operating over USB 3.\n",
      "[INFO] [B200] Initialize CODEC control...\n",
      "[INFO] [B200] Initialize Radio control...\n",
      "[INFO] [B200] Performing register loopback test... \n",
      "[INFO] [B200] Register loopback test passed\n",
      "[INFO] [B200] Performing register loopback test... \n",
      "[INFO] [B200] Register loopback test passed\n",
      "[INFO] [B200] Setting master clock rate selection to 'automatic'.\n",
      "[INFO] [B200] Asking for clock rate 16.000000 MHz... \n",
      "[INFO] [B200] Actually got clock rate 16.000000 MHz.\n",
      "[INFO] [B200] Asking for clock rate 56.000000 MHz... \n",
      "[INFO] [B200] Actually got clock rate 56.000000 MHz.\n"
     ]
    }
   ],
   "source": [
    "\n",
    "usrp = uhd.usrp.MultiUSRP()\n",
    "\n",
    "\n",
    "center_freq = 2.415e9# Hz\n",
    "sample_rate = 56e6 # Hz twice the BW\n",
    "nr_batches=10000 #1000 batches of 20,000 samples almost 1s\n",
    "batch = 21000\n",
    "THRESHOLD = 0.01\n",
    "gain = 40# dB\n",
    "\n",
    "usrp.set_rx_rate(sample_rate, 0)\n",
    "usrp.set_rx_freq(uhd.libpyuhd.types.tune_request(center_freq), 0)\n",
    "usrp.set_rx_gain(gain, 0)\n",
    "usrp.set_rx_agc(False, 0)"
   ]
  },
  {
   "cell_type": "code",
   "execution_count": 3,
   "metadata": {},
   "outputs": [],
   "source": [
    "\n",
    "# Set up the stream and receive buffer\n",
    "st_args = uhd.usrp.StreamArgs(\"fc32\", \"sc16\")\n",
    "st_args.channels = [0]\n",
    "metadata = uhd.types.RXMetadata()\n",
    "streamer = usrp.get_rx_stream(st_args)\n",
    "recv_buffer = np.zeros((1, batch), dtype=np.complex64)\n",
    "\n",
    "# Start Stream\n",
    "stream_cmd = uhd.types.StreamCMD(uhd.types.StreamMode.start_cont)\n",
    "stream_cmd.stream_now = True\n",
    "streamer.issue_stream_cmd(stream_cmd)"
   ]
  },
  {
   "cell_type": "code",
   "execution_count": 4,
   "metadata": {},
   "outputs": [
    {
     "name": "stderr",
     "output_type": "stream",
     "text": [
      "OOOOOOOOOOOOOOOOOOOOOOOOOOOOOOOOOOOOOOOOOOOOOOOOOOOOOOOOOOOOOOOOOOOOOOOOOOOOOOOOOOOOOOOOOOOOOOOOOOOOOOOOOOOOOOOOOOOOOOOOOOOOOOOOOOOOOOOOOOOOOOOOOOOOOOOOOOOOOOOOOOOOOOOOOOOOOOOOOOOOOOOOOOOOOOOOOOOOOOOOOOOOOOOOOOOOOOOOOOOOOOOOOOOOOOOOOOOOOOOOOOOOOOOOOOOOOOOOOOOOOOOOOOOOOOOOOOOOOOOOOOOOOOOOOOOOOOOOOOOOOOOOOOOOOOOOOOOOOOOOOOOOOOOOOOOOOOOOOOOOOOOOOOOOOOOOOOOOOOOOOOOOOOOOOOOOOOOOOOOOOOOOOOOOOOOOOOOOOOOOOOOOOOOOOOOOOOOOOOOOOOOOOOOOOOOOOOOOOOOOOOOOOOOOOOOOOOOOOOOOOOOOOOOOOOOOOOOOOOOOOOOOOOOOOOOOOOOOOOOOOOOOOOOOOOOOOOOOOOOOOOOOOOOOOOOOOOOOOOOOOOOOOOOOOOOOOOOOOOOOOOOOOOOOOOOOOOOOOOOOOOOOOOOOOOOOOOOOOOOOOOOOOOOOOOOOOOOOOOOOOOOOOOOOOOOOOOOOOOOOO"
     ]
    }
   ],
   "source": [
    "# Receive Samples\n",
    "import numpy as np\n",
    "import time\n",
    "file = \"ESP32_Adv_sampling_rate_\"+str(round(sample_rate/1e6,2))+\"_gain_\"+str(gain)+\"_fc_\"+str(round(center_freq/1e6,3))+\".iq\"\n",
    "f = open(file,\"wb\")\n",
    "\n",
    "# samples = np.zeros(batch, dtype=np.complex64)\n",
    "\n",
    "\n",
    "# print(recordingTime <time.time() - start)\n",
    "for i in range(nr_batches):#   recordingTime >time.time() - start:\n",
    "    streamer.recv(recv_buffer, metadata)\n",
    "    np.zeros(1).tofile(f)\n",
    "    recv_buffer[0].tofile(f)\n",
    "\n",
    "# Stop Stream\n",
    "stream_cmd = uhd.types.StreamCMD(uhd.types.StreamMode.stop_cont)\n",
    "streamer.issue_stream_cmd(stream_cmd)\n",
    "f.close()\n",
    "# we will only take the FFT of the first 1024 samples, see text below\n"
   ]
  },
  {
   "cell_type": "code",
   "execution_count": 5,
   "metadata": {},
   "outputs": [],
   "source": [
    "samples = np.fromfile(file, np.complex64) # Read in file.  We have to tell it what format it is\n",
    "zeros = np.abs(samples)<THRESHOLD\n",
    "samples[zeros] = 0"
   ]
  },
  {
   "cell_type": "code",
   "execution_count": 6,
   "metadata": {},
   "outputs": [],
   "source": [
    "from itertools import groupby\n",
    "from operator import itemgetter\n",
    "\n",
    "def frameFinder(samples):\n",
    "    test_list = np.nonzero(samples)\n",
    "    framesIndex = []\n",
    "    for k, g in groupby(enumerate(test_list[0]), lambda ix: ix[0]-ix[1]):\n",
    "        temp = list(map(itemgetter(1), g))\n",
    "        if len(temp)< 1000:\n",
    "            continue\n",
    "        framesIndex.append([temp[0],temp[-1]])\n",
    "    return np.array(framesIndex)\n",
    "\n",
    "def zeroRemover(file,framesIndex):\n",
    "    f = open(file,\"wb\")\n",
    "    for i,j in framesIndex:\n",
    "        frame = samples[i:j]\n",
    "        frame.tofile(f)\n",
    "        np.zeros(2000,dtype=np.complex64).tofile(f)\n",
    "    f.close()\n",
    "\n",
    "\n",
    "zeroRemover(file, frameFinder(samples))     "
   ]
  }
 ],
 "metadata": {
  "kernelspec": {
   "display_name": "Python 3.8.10 64-bit",
   "language": "python",
   "name": "python3"
  },
  "language_info": {
   "codemirror_mode": {
    "name": "ipython",
    "version": 3
   },
   "file_extension": ".py",
   "mimetype": "text/x-python",
   "name": "python",
   "nbconvert_exporter": "python",
   "pygments_lexer": "ipython3",
   "version": "3.8.10"
  },
  "orig_nbformat": 4,
  "vscode": {
   "interpreter": {
    "hash": "916dbcbb3f70747c44a77c7bcd40155683ae19c65e1c03b4aa3499c5328201f1"
   }
  }
 },
 "nbformat": 4,
 "nbformat_minor": 2
}
